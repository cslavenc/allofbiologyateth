{
 "cells": [
  {
   "cell_type": "code",
   "execution_count": 10,
   "metadata": {},
   "outputs": [],
   "source": [
    "import numpy as np\n",
    "import matplotlib.pyplot as plt\n",
    "import skinematics as skin\n",
    "\n",
    "import scipy.signal as ss\n",
    "import matplotlib.pylab as mp"
   ]
  },
  {
   "cell_type": "markdown",
   "metadata": {},
   "source": [
    "Submit 3 textfiles:\n",
    "Maximal Cupula displacements\n",
    "Calculate the minimum and maximum acceleration of otoliths\n",
    "Direction of nose at end of recording (or visualize head movement during paradigm)"
   ]
  },
  {
   "cell_type": "markdown",
   "metadata": {},
   "source": [
    "## 1. Read in the data (use only the 3D-acceleration and the 3D-angular-velocity!)"
   ]
  },
  {
   "cell_type": "code",
   "execution_count": 11,
   "metadata": {},
   "outputs": [],
   "source": [
    "# get directory\n"
   ]
  },
  {
   "cell_type": "markdown",
   "metadata": {},
   "source": [
    "## 2. Find q0 , i.e. the orientation of the IMU at t=0 re space"
   ]
  },
  {
   "cell_type": "code",
   "execution_count": 12,
   "metadata": {},
   "outputs": [
    {
     "name": "stdout",
     "output_type": "stream",
     "text": [
      "[[ 0.92387953  0.          0.          0.38268343]]\n"
     ]
    }
   ],
   "source": [
    "# define approximate sensor orientation\n",
    "x = [1,0,0] # forward\n",
    "y = [0,0,-1] # downward\n",
    "z = [0,1,0] # points to right\n",
    "vector = [1,1,0]\n",
    "q_short = (skin.vector.q_shortest_rotation(x, vector))\n",
    "# default  quat.convert(quat, to='rotmat' => rotation matrix\n",
    "R_short = skin.quat.convert(q_short)\n",
    "print(skin.rotmat.convert(R_short)) # convert back to rot"
   ]
  },
  {
   "cell_type": "markdown",
   "metadata": {},
   "source": [
    "## 3. Find ~ n0 , i.e. the orientation of the right SCC (semicircular canal) at t=0"
   ]
  },
  {
   "cell_type": "code",
   "execution_count": 13,
   "metadata": {},
   "outputs": [
    {
     "name": "stdout",
     "output_type": "stream",
     "text": [
      "[-2.13674371 -0.04       -9.21082115]\n"
     ]
    }
   ],
   "source": [
    "n_anatomical = [0.32, -0.04, -9.45] # orientation wrt anatomical landmarks\n",
    "# how to get to orientation in the beginning of the recording? => it is a rotation about the y-axis\n",
    "Ry_15 = skin.rotmat.R(1,15)\n",
    "init_anat_rot = Ry_15 @ n_anatomical\n",
    "print(init_anat_rot)"
   ]
  },
  {
   "cell_type": "markdown",
   "metadata": {},
   "source": [
    "## 4. Using q0 , ~ n0 and ω(t)sensor , calculate stim, the stimulation of the right SCC"
   ]
  },
  {
   "cell_type": "code",
   "execution_count": 14,
   "metadata": {},
   "outputs": [
    {
     "data": {
      "text/plain": [
       "'\\nomaga = angular velocity\\nq0 = starting orientation # 15 deg nose up\\nrate = sample rate\\nCStype = wrt to space or sensor!\\n'"
      ]
     },
     "execution_count": 14,
     "metadata": {},
     "output_type": "execute_result"
    }
   ],
   "source": [
    "# Canals are described as a vector (init_anat_rot), we know as well the orientation of the sensor\n",
    "# sensors measures data wrt to sensor!\n",
    "# transfer function gives us deflection of cupula\n",
    "\n",
    "# example in wikibook: \n",
    "\n",
    "# simulate response of lowpass filter for step input\n",
    "# Define transfer function\n",
    "num = [1]\n",
    "tau = 7\n",
    "den = [tau, 1]\n",
    "mySystem = ss.lti(num, den)\n",
    "\n",
    "# Generate inSignal\n",
    "t = np.arange(0,30,0.1)\n",
    "inSignal = np.zeros(t.size)\n",
    "inSignal[t>=1] = 1 \n",
    "#inSignal[10] = 1 small transient response\n",
    "\n",
    "# Simulate and plot outSignal\n",
    "tout, outSignal, xout = ss.lsim(mySystem, inSignal, t)\n",
    "mp.plot(t, inSignal, tout, outSignal)\n",
    "#mp.show()\n",
    "\n",
    "#lti = linear time invariant system\n",
    "# This step gives us the deflection in radians! Thus, multiply delta with radius uf sscanal (3.2mm)\n",
    "\n",
    "## Head orientation: Go from one to next positoin\n",
    "#pos = pos0\n",
    "#vel\n",
    "#dt\n",
    "#pos[t+1] = pos_0 * dt * vel\n",
    "\n",
    "# [from acceleration to position]: work with quaternions\n",
    "# quaternion multiplication: skin.quat.q_mult(p, q) => remember the right sequence!\n",
    "# get orientation as function of time. \n",
    "# velocity wrt to sensor: another sequence!!\n",
    "#skin.quat.q_mult()\n",
    "#skind.quat.calc_quat(omega, q0, rate, CStype)\n",
    "'''\n",
    "omaga = angular velocity\n",
    "q0 = starting orientation # 15 deg nose up\n",
    "rate = sample rate\n",
    "CStype = wrt to space or sensor!\n",
    "'''\n"
   ]
  },
  {
   "cell_type": "markdown",
   "metadata": {},
   "source": [
    "## 5. Find the canal-transfer-function re velocity (not re rotation-angle!)"
   ]
  },
  {
   "cell_type": "markdown",
   "metadata": {},
   "source": [
    "## 6. Using stim and the canal-transfer-function, calculate the cupula deflection"
   ]
  },
  {
   "cell_type": "markdown",
   "metadata": {},
   "source": [
    "## 7. Using q0 and ω(t)sensor , calculate q(t), i.e. the head orientation re space during the movement"
   ]
  },
  {
   "cell_type": "markdown",
   "metadata": {},
   "source": [
    "## 8. Calculate the stimulation of the otolith hair cell"
   ]
  },
  {
   "cell_type": "code",
   "execution_count": 15,
   "metadata": {},
   "outputs": [
    {
     "data": {
      "text/plain": [
       "array([ 0.9       ,  0.38987177, -0.19493589])"
      ]
     },
     "execution_count": 15,
     "metadata": {},
     "output_type": "execute_result"
    }
   ],
   "source": [
    "nose = [1,0,0]\n",
    "q = [0, 0.1, 0.2]\n",
    "qinv = skin.quat.q_inv(q)\n",
    "skin.vector.rotate_vector(nose, q)\n",
    "# a find rot matrix\n",
    "# convert quaternion to corresp. rotation matrix"
   ]
  },
  {
   "cell_type": "markdown",
   "metadata": {},
   "source": [
    "## 9. Show the head orientation"
   ]
  },
  {
   "cell_type": "code",
   "execution_count": null,
   "metadata": {},
   "outputs": [],
   "source": []
  },
  {
   "cell_type": "code",
   "execution_count": null,
   "metadata": {},
   "outputs": [],
   "source": []
  },
  {
   "cell_type": "code",
   "execution_count": null,
   "metadata": {},
   "outputs": [],
   "source": []
  },
  {
   "cell_type": "code",
   "execution_count": null,
   "metadata": {},
   "outputs": [],
   "source": []
  }
 ],
 "metadata": {
  "kernelspec": {
   "display_name": "Python 3",
   "language": "python",
   "name": "python3"
  },
  "language_info": {
   "codemirror_mode": {
    "name": "ipython",
    "version": 3
   },
   "file_extension": ".py",
   "mimetype": "text/x-python",
   "name": "python",
   "nbconvert_exporter": "python",
   "pygments_lexer": "ipython3",
   "version": "3.6.3"
  }
 },
 "nbformat": 4,
 "nbformat_minor": 2
}
