{
 "cells": [
  {
   "cell_type": "code",
   "execution_count": 2,
   "metadata": {},
   "outputs": [
    {
     "name": "stdout",
     "output_type": "stream",
     "text": [
      "Using matplotlib backend: Qt5Agg\n"
     ]
    }
   ],
   "source": [
    "%matplotlib\n",
    "import numpy as np\n",
    "import matplotlib.pyplot as plt\n",
    "from skimage.color import rgb2gray\n",
    "import os\n",
    "from __future__ import print_function"
   ]
  },
  {
   "cell_type": "markdown",
   "metadata": {},
   "source": [
    "## Takes a given input image, or - if none is provided - lets you interactively select an input image"
   ]
  },
  {
   "cell_type": "code",
   "execution_count": 10,
   "metadata": {},
   "outputs": [],
   "source": [
    "# Go to the location of the script. Note: this depends on your system!!\n",
    "curDir = r'/home/padraigh/Dokumente/Uni/NSC/Lectures/FS18/SensorySystems/ex03_visual/Images'\n",
    "inFile = r'Small_Lena.jpg'\n",
    "img = plt.imread(os.path.join(curDir, inFile))"
   ]
  },
  {
   "cell_type": "code",
   "execution_count": 6,
   "metadata": {},
   "outputs": [],
   "source": [
    "# http://work.thaslwanter.at/skinematics/html/misc.html: functions for a GUI\n",
    "# how many arc' arc'' (mm of retina) is one pixel? => calculate how picture looks like on the fovea\n",
    "\n",
    "d = 0.6 # distance from the display\n",
    "y = 0.3 # size of the filter??\n",
    "r_eye = 1.25e-2 # \n",
    "\n",
    "alpha = np.arctan(y/d)\n",
    "d_retina = alpha * r_eye # distance of fovea on the retina\n",
    "\n",
    "# for DOG: difference sigma1:sigma2 = 1.6\n",
    "\n",
    "# select fixation point\n",
    "# calculate distance to fixation point (in pixels)\n",
    "# convert pixel to r (pixel) to r(mm)\n",
    "# RFS = eccentricity = 10*eccentricity(mm) => this gives us the size of the RF\n",
    "# use this to find sigma1 (1/10 size of RF) and sigma2 (1.6*sigma1)\n",
    "# convert RFS to pixels\n",
    "# generate filter matrix\n",
    "# break down the image into ca. 10 zones (wrt distance from fixation point)\n",
    "# for each zone calculate average radius\n",
    "# for these 10 radi construct filters and apply them to image\n",
    "# put together overall image"
   ]
  },
  {
   "cell_type": "markdown",
   "metadata": {},
   "source": [
    "## In this image, lets you interactively select a fixation point (\"ginput\")"
   ]
  },
  {
   "cell_type": "code",
   "execution_count": 15,
   "metadata": {},
   "outputs": [
    {
     "name": "stdout",
     "output_type": "stream",
     "text": [
      "Please click\n",
      "clicked [[54. 24.]]\n"
     ]
    }
   ],
   "source": [
    "plt.imshow(img)\n",
    "print(\"Please click\")\n",
    "selection = plt.ginput(1)\n",
    "print(\"clicked\", np.round(selection))\n",
    "# how to convert this into the picture matrix?! draw a circle\n",
    "img_adjusted = img.copy()\n",
    "#img_adjusted[selection[1], selection[2]] = 120\n",
    "\n",
    "# convert to grayscale\n",
    "#img_g_float = rgb2gray(img)\n",
    "#plt.imshow(img_adjusted)"
   ]
  },
  {
   "cell_type": "code",
   "execution_count": 5,
   "metadata": {},
   "outputs": [
    {
     "data": {
      "text/plain": [
       "<matplotlib.image.AxesImage at 0x7f23ddd98e48>"
      ]
     },
     "execution_count": 5,
     "metadata": {},
     "output_type": "execute_result"
    }
   ],
   "source": [
    "img_adjusted = img.copy()\n",
    "img_adjusted[0:25, 0:25] = 125\n",
    "plt.imshow(img_adjusted)"
   ]
  },
  {
   "cell_type": "markdown",
   "metadata": {},
   "source": [
    "## Calculates the activity in the retinal ganglion cells, and shows the corresponding activity, and"
   ]
  },
  {
   "cell_type": "code",
   "execution_count": 6,
   "metadata": {},
   "outputs": [
    {
     "name": "stdout",
     "output_type": "stream",
     "text": [
      "[[-250 -249 -248 -247 -246]\n",
      " [-250 -249 -248 -247 -246]\n",
      " [-250 -249 -248 -247 -246]\n",
      " [-250 -249 -248 -247 -246]\n",
      " [-250 -249 -248 -247 -246]]\n"
     ]
    },
    {
     "data": {
      "text/plain": [
       "<matplotlib.image.AxesImage at 0x7f23dc78d2b0>"
      ]
     },
     "execution_count": 6,
     "metadata": {},
     "output_type": "execute_result"
    }
   ],
   "source": [
    "# we will need this for the circular shape of the receptive fields\n",
    "\n",
    "myrange = np.arange(-250,250)\n",
    "X,Y = np.meshgrid(myrange, myrange) # returns 2 matrices (in this case 500x500) 1nd:x-value, 2nd:y-value\n",
    "print(X[:5,:5])\n",
    "Z = np.zeros(X.shape)\n",
    "\n",
    "# Iris & pupil\n",
    "R = np.sqrt((X-100)**2+Y**2) # mit (X-50) => move picture (= centre of circle to the right)\n",
    "#R = np.sqrt((X+100)**2+Y**2) \n",
    "Z[R>50]=150\n",
    "Z[R>100] = 255\n",
    "\n",
    "plt.gray()\n",
    "plt.imshow(Z)"
   ]
  },
  {
   "cell_type": "code",
   "execution_count": 7,
   "metadata": {},
   "outputs": [
    {
     "name": "stdout",
     "output_type": "stream",
     "text": [
      "0\n"
     ]
    },
    {
     "ename": "IndexError",
     "evalue": "too many indices for array",
     "output_type": "error",
     "traceback": [
      "\u001b[0;31m---------------------------------------------------------------------------\u001b[0m",
      "\u001b[0;31mIndexError\u001b[0m                                Traceback (most recent call last)",
      "\u001b[0;32m<ipython-input-7-6184fc56bf0e>\u001b[0m in \u001b[0;36m<module>\u001b[0;34m()\u001b[0m\n\u001b[1;32m     17\u001b[0m \u001b[0;32mfor\u001b[0m \u001b[0mii\u001b[0m \u001b[0;32min\u001b[0m \u001b[0mnp\u001b[0m\u001b[0;34m.\u001b[0m\u001b[0marange\u001b[0m\u001b[0;34m(\u001b[0m\u001b[0;36m3\u001b[0m\u001b[0;34m)\u001b[0m\u001b[0;34m:\u001b[0m\u001b[0;34m\u001b[0m\u001b[0m\n\u001b[1;32m     18\u001b[0m     \u001b[0mprint\u001b[0m\u001b[0;34m(\u001b[0m\u001b[0mii\u001b[0m\u001b[0;34m)\u001b[0m\u001b[0;34m\u001b[0m\u001b[0m\n\u001b[0;32m---> 19\u001b[0;31m     \u001b[0mfinal\u001b[0m\u001b[0;34m[\u001b[0m\u001b[0mZones\u001b[0m\u001b[0;34m==\u001b[0m\u001b[0mii\u001b[0m\u001b[0;34m]\u001b[0m \u001b[0;34m=\u001b[0m \u001b[0mimg\u001b[0m\u001b[0;34m[\u001b[0m\u001b[0mii\u001b[0m\u001b[0;34m]\u001b[0m\u001b[0;34m[\u001b[0m\u001b[0mZones\u001b[0m\u001b[0;34m==\u001b[0m\u001b[0mii\u001b[0m\u001b[0;34m]\u001b[0m\u001b[0;34m\u001b[0m\u001b[0m\n\u001b[0m\u001b[1;32m     20\u001b[0m \u001b[0mplt\u001b[0m\u001b[0;34m.\u001b[0m\u001b[0mimshow\u001b[0m\u001b[0;34m(\u001b[0m\u001b[0mfinal\u001b[0m\u001b[0;34m)\u001b[0m\u001b[0;34m\u001b[0m\u001b[0m\n\u001b[1;32m     21\u001b[0m \u001b[0;34m\u001b[0m\u001b[0m\n",
      "\u001b[0;31mIndexError\u001b[0m: too many indices for array"
     ]
    }
   ],
   "source": [
    "# Filtering\n",
    "# largest distance from corners to foveal point => largest distance we have to work with\n",
    "# break down distance by 10\n",
    "# for each zone: find average distance to fovea and select corresponding receptive field size\n",
    "# giving shape of rec. field and ratio of 2 gaussians => sonstruct filter of receptive field\n",
    "# apply each to the image\n",
    "# assign the different filtered images to the different parts of the receptive field (=> in imgproc3: example how )\n",
    "\n",
    "from skimage import filters\n",
    "# define 2 zones\n",
    "Zones = np.zeros(img.shape, dtype=np.uint8)\n",
    "Zones[333:,:]=1\n",
    "Zones[666:,:]=2\n",
    "plt.imshow(Zones)\n",
    "\n",
    "final = np.zeros(img.shape, dtype = np.uint8)\n",
    "for ii in np.arange(3):\n",
    "    print(ii)\n",
    "    final[Zones==ii] = img[ii][Zones==ii]\n",
    "plt.imshow(final)\n",
    "\n",
    "# apply linea filter to picture (that's what the ganglion cells do)\n",
    "# centersurronud filer to whole image => get coefficients for mexican head function\n",
    "# we need a matrix with highest point in center\n",
    "# size of matrix depends on size of receptive field\n",
    "\n",
    "# in the retina we have a continuous increase, but for the exervcise we selcet a fixation point (highest resolution = smallest receptive field)\n",
    "# and the more we go out the larger the areas for the filter becomes\n",
    "\n",
    "# size of the filter is the distance from the fixation point to the furthest corner\n",
    "\n",
    "#filter_matrix = np.ones((10,10))/100\n",
    "#img_filtered_uint8 = ndimage.convolve(img_g_float, filter_matrix, mode='constant', cval=0.0)\n",
    "#plt.imshow(img_filtered_uint8)\n",
    "\n",
    "#filtered = filters.sobel(img_g)\n",
    "#plt.imshow(filtered)\n",
    "\n",
    "# select point\n",
    "# break down image in zoens\n",
    "# for each zone apply filter corresponding to mexican hat shape"
   ]
  },
  {
   "cell_type": "code",
   "execution_count": null,
   "metadata": {},
   "outputs": [],
   "source": [
    "from skimage.filters import gaussian\n",
    "\n",
    "edges = gaussian(img_g_float, 1) - gaussian(img_g_float, 2)\n",
    "edges[:3,:3]\n",
    "\n",
    "all_edges = np.abs(edges)\n",
    "plt.imshow(np.uint8(all_edges/np.max(all_edges)*255), 'gray')\n",
    "\n",
    "# if we have pos and neg values in filtered image = combined activity of on and off ganglion cells"
   ]
  },
  {
   "cell_type": "markdown",
   "metadata": {},
   "source": [
    " ## Calculates and shows the activity in the primary visual cortex, and"
   ]
  },
  {
   "cell_type": "code",
   "execution_count": null,
   "metadata": {},
   "outputs": [],
   "source": [
    "# cells respond best to lines and edges\n",
    "# apply filter of gabor-function to data\n",
    "# depending on params of gabor function we'll get alignments of different orientations\n"
   ]
  },
  {
   "cell_type": "markdown",
   "metadata": {},
   "source": [
    " ## Save this image to an out-file."
   ]
  },
  {
   "cell_type": "code",
   "execution_count": null,
   "metadata": {},
   "outputs": [],
   "source": [
    "import matplotlib.pyplot as mp\n",
    "\n",
    "def gabor_fn(sigma, theta, g_lambda, psi, gamma):\n",
    "    # Calculates the Gabor function with the given parameters\n",
    "        \n",
    "    sigma_x = sigma\n",
    "    sigma_y = sigma/gamma\n",
    "    \n",
    "    # Boundingbox:\n",
    "    nstds = 3\n",
    "    xmax = max( abs(nstds*sigma_x * np.cos(theta)), abs(nstds*sigma_y * np.sin(theta)) )\n",
    "    ymax = max( abs(nstds*sigma_x * np.sin(theta)), abs(nstds*sigma_y * np.cos(theta)) )\n",
    "    \n",
    "    xmax = np.ceil(max(1,xmax))\n",
    "    ymax = np.ceil(max(1,ymax))\n",
    "    \n",
    "    xmin = -xmax\n",
    "    ymin = -ymax\n",
    "    \n",
    "    numPts = 201    \n",
    "    (x,y) = np.meshgrid(np.linspace(xmin, xmax, numPts), np.linspace(ymin, ymax, numPts) ) \n",
    "    \n",
    "    # Rotation\n",
    "    x_theta =  x * np.cos(theta) + y * np.sin(theta)\n",
    "    y_theta = -x * np.sin(theta) + y * np.cos(theta)\n",
    "    gb = np.exp( -0.5* (x_theta**2/sigma_x**2 + y_theta**2/sigma_y**2) ) * \\\n",
    "         np.cos( 2*np.pi/g_lambda*x_theta + psi )\n",
    "    \n",
    "    return gb\n",
    "\n",
    "if __name__ == '__main__':\n",
    "    # Main function: calculate Gabor function for default parameters and show it\n",
    "    gaborValues = gabor_fn(1,1,4,2,1)\n",
    "    mp.imshow(gaborValues)\n",
    "    mp.colorbar()\n",
    "    mp.show()"
   ]
  }
 ],
 "metadata": {
  "kernelspec": {
   "display_name": "Python 3",
   "language": "python",
   "name": "python3"
  },
  "language_info": {
   "codemirror_mode": {
    "name": "ipython",
    "version": 3
   },
   "file_extension": ".py",
   "mimetype": "text/x-python",
   "name": "python",
   "nbconvert_exporter": "python",
   "pygments_lexer": "ipython3",
   "version": "3.6.5"
  }
 },
 "nbformat": 4,
 "nbformat_minor": 2
}
